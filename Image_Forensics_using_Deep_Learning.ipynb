{
  "cells": [
    {
      "cell_type": "markdown",
      "metadata": {
        "id": "hr3TRrjy6RnM"
      },
      "source": [
        "# **DATA SPIKE**\n",
        "### SENIOR ML ENGINEER TECHNICAL ASSESSMENT\n",
        "### **(Document Forgery Detection Mini-Project)**"
      ]
    },
    {
      "cell_type": "markdown",
      "metadata": {
        "id": "jnAeH8S655Cb"
      },
      "source": [
        "\n",
        "---\n",
        "**Candidate Name:**  OKON PRINCE\n",
        "\n",
        "**Assessment Description:**  DATA SCIENCE SKILLS ASSESSMENT\n",
        "\n",
        "**Email:** okonp07@gmail.com\n",
        "\n",
        "---"
      ]
    },
    {
      "cell_type": "markdown",
      "metadata": {
        "id": "hyg-9v9s6VX3"
      },
      "source": [
        "\n",
        "|  |  |\n",
        "|:---|:---|\n",
        "|**submission Deadline** |  Tuesday, September 4th, 2023 |\n",
        "|**Prior Knowledge** | Python, Deep learning, Tensor flow  |\n",
        "|**Sections** | Introduction, EDA, Modeling, Evaluation  |\n",
        "\n",
        "\n",
        "---"
      ]
    },
    {
      "cell_type": "markdown",
      "metadata": {
        "id": "HYE9A6l-bKp1"
      },
      "source": [
        "\n",
        "## Introduction:\n",
        "\n",
        "In an era of ever-evolving digital media and widespread use of image-editing tools, ensuring the authenticity and integrity of images has become an imperative concern. With the rise of digital image forgery, the need for robust and efficient image forgery detection methods has become more pronounced. This mini-project aims to address this challenge by developing a deep learning Convolutional Neural Network (CNN) model for image forgery detection.\n",
        "\n",
        "The primary objective of this project is to create a model capable of detecting forged images accurately and swiftly, with an ideal inference time of up to 1 second per image. To achieve this goal, we will leverage the power of deep learning, utilizing either the PyTorch or TensorFlow framework, both renowned for their flexibility and optimization capabilities.\n",
        "\n",
        "Dataset and Data Preparation:\n",
        "\n",
        "For this project, we will use the MICC_F600 dataset, a comprehensive collection of images containing various types of forgery, including copy-move forgeries. To ensure the model's robustness and generalization, we may apply data augmentation techniques such as random rotations, flips, and shifts. These augmentations will help the model learn invariant features, thereby enhancing its detection accuracy when presented with real-world images.\n",
        "\n",
        "Model Building:\n",
        "\n",
        "Our chosen approach for image forgery detection involves constructing a Convolutional Neural Network (CNN). A CNN is ideally suited for image-based tasks due to its ability to automatically learn hierarchical features from raw pixel data. The architecture of the CNN will be designed thoughtfully, taking into consideration factors such as model depth, convolutional and pooling layers, activation functions, and regularization techniques.\n",
        "\n",
        "Training and Evaluation:\n",
        "\n",
        "The MICC_F600 dataset will be split into training and testing subsets to train and evaluate the model, respectively. During the training phase, the CNN will be trained using the training data, and its performance will be monitored using metrics such as accuracy, precision, recall, and F1-score. Hyperparameter tuning will be performed iteratively to strike a balance between model complexity and generalization ability.\n",
        "\n",
        "Deliverables:\n",
        "\n",
        "The deliverables for this mini-project will include a well-documented Jupyter/Colab Notebook or Python script that walks through each step of the process. Clear explanations will be provided for data preprocessing, model architecture, training, and evaluation. Visualizations and plots showcasing various performance metrics will be presented to provide insights into the model's effectiveness.\n",
        "\n",
        "Conclusion:\n",
        "\n",
        "In a digital landscape rife with image manipulations, creating a swift and accurate image forgery detection model is of paramount importance. By employing state-of-the-art deep learning techniques and leveraging the power of CNNs, this project aims to contribute to the arsenal of tools designed to maintain the integrity of digital media. The successful development of an efficient forgery detection model has the potential to significantly impact fields such as journalism, forensics, and content verification, ensuring that the images we encounter in our daily lives remain trustworthy and authentic."
      ]
    },
    {
      "cell_type": "code",
      "execution_count": 1,
      "metadata": {
        "id": "08Q8jxnTCMAC"
      },
      "outputs": [],
      "source": [
        "# Importing Libraries\n",
        "\n",
        "import cv2\n",
        "import numpy as np\n",
        "import matplotlib.pyplot as plt\n",
        "from google.colab import drive\n",
        "import seaborn as sns\n",
        "import torch\n",
        "import torch.nn as nn\n",
        "import os\n",
        "from PIL import Image\n",
        "import torchvision.transforms as transforms\n",
        "import random\n",
        "import torch.optim as optim\n",
        "from sklearn.model_selection import train_test_split\n",
        "from torch.utils.data import DataLoader, TensorDataset"
      ]
    },
    {
      "cell_type": "code",
      "execution_count": 2,
      "metadata": {
        "colab": {
          "base_uri": "https://localhost:8080/"
        },
        "id": "8OczFI7VCOJ6",
        "outputId": "39629304-87ec-419f-a268-be8c4e0f4653"
      },
      "outputs": [
        {
          "output_type": "stream",
          "name": "stdout",
          "text": [
            "Mounted at /content/drive\n"
          ]
        }
      ],
      "source": [
        "#Mount the drive where the downloaded files to be processed are reposed\n",
        "#If you are trying to reproduce this notebook, please link to the data source\n",
        "drive.mount('/content/drive')"
      ]
    },
    {
      "cell_type": "code",
      "source": [
        "# Set random seeds for reproducibility accross the notebook\n",
        "seed = 42\n",
        "random.seed(seed)\n",
        "np.random.seed(seed)\n",
        "torch.manual_seed(seed)\n",
        "if torch.cuda.is_available():\n",
        "    torch.cuda.manual_seed(seed)\n",
        "    torch.backends.cudnn.deterministic = True\n",
        "    torch.backends.cudnn.benchmark = False\n"
      ],
      "metadata": {
        "id": "IFa3rzuLBJw1"
      },
      "execution_count": 3,
      "outputs": []
    },
    {
      "cell_type": "code",
      "execution_count": 4,
      "metadata": {
        "colab": {
          "base_uri": "https://localhost:8080/"
        },
        "id": "mSUdt8wYxq-o",
        "outputId": "8a53763c-8c64-414b-e9b8-b4b41e674f95"
      },
      "outputs": [
        {
          "output_type": "stream",
          "name": "stdout",
          "text": [
            "Requirement already satisfied: numpy in /usr/local/lib/python3.10/dist-packages (1.23.5)\n",
            "Requirement already satisfied: pandas in /usr/local/lib/python3.10/dist-packages (1.5.3)\n",
            "Requirement already satisfied: matplotlib in /usr/local/lib/python3.10/dist-packages (3.7.1)\n",
            "Requirement already satisfied: seaborn in /usr/local/lib/python3.10/dist-packages (0.12.2)\n",
            "Requirement already satisfied: tensorflow in /usr/local/lib/python3.10/dist-packages (2.12.0)\n",
            "Requirement already satisfied: scikit-learn in /usr/local/lib/python3.10/dist-packages (1.2.2)\n",
            "Requirement already satisfied: python-dateutil>=2.8.1 in /usr/local/lib/python3.10/dist-packages (from pandas) (2.8.2)\n",
            "Requirement already satisfied: pytz>=2020.1 in /usr/local/lib/python3.10/dist-packages (from pandas) (2023.3)\n",
            "Requirement already satisfied: contourpy>=1.0.1 in /usr/local/lib/python3.10/dist-packages (from matplotlib) (1.1.0)\n",
            "Requirement already satisfied: cycler>=0.10 in /usr/local/lib/python3.10/dist-packages (from matplotlib) (0.11.0)\n",
            "Requirement already satisfied: fonttools>=4.22.0 in /usr/local/lib/python3.10/dist-packages (from matplotlib) (4.42.1)\n",
            "Requirement already satisfied: kiwisolver>=1.0.1 in /usr/local/lib/python3.10/dist-packages (from matplotlib) (1.4.4)\n",
            "Requirement already satisfied: packaging>=20.0 in /usr/local/lib/python3.10/dist-packages (from matplotlib) (23.1)\n",
            "Requirement already satisfied: pillow>=6.2.0 in /usr/local/lib/python3.10/dist-packages (from matplotlib) (9.4.0)\n",
            "Requirement already satisfied: pyparsing>=2.3.1 in /usr/local/lib/python3.10/dist-packages (from matplotlib) (3.1.1)\n",
            "Requirement already satisfied: absl-py>=1.0.0 in /usr/local/lib/python3.10/dist-packages (from tensorflow) (1.4.0)\n",
            "Requirement already satisfied: astunparse>=1.6.0 in /usr/local/lib/python3.10/dist-packages (from tensorflow) (1.6.3)\n",
            "Requirement already satisfied: flatbuffers>=2.0 in /usr/local/lib/python3.10/dist-packages (from tensorflow) (23.5.26)\n",
            "Requirement already satisfied: gast<=0.4.0,>=0.2.1 in /usr/local/lib/python3.10/dist-packages (from tensorflow) (0.4.0)\n",
            "Requirement already satisfied: google-pasta>=0.1.1 in /usr/local/lib/python3.10/dist-packages (from tensorflow) (0.2.0)\n",
            "Requirement already satisfied: grpcio<2.0,>=1.24.3 in /usr/local/lib/python3.10/dist-packages (from tensorflow) (1.57.0)\n",
            "Requirement already satisfied: h5py>=2.9.0 in /usr/local/lib/python3.10/dist-packages (from tensorflow) (3.9.0)\n",
            "Requirement already satisfied: jax>=0.3.15 in /usr/local/lib/python3.10/dist-packages (from tensorflow) (0.4.14)\n",
            "Requirement already satisfied: keras<2.13,>=2.12.0 in /usr/local/lib/python3.10/dist-packages (from tensorflow) (2.12.0)\n",
            "Requirement already satisfied: libclang>=13.0.0 in /usr/local/lib/python3.10/dist-packages (from tensorflow) (16.0.6)\n",
            "Requirement already satisfied: opt-einsum>=2.3.2 in /usr/local/lib/python3.10/dist-packages (from tensorflow) (3.3.0)\n",
            "Requirement already satisfied: protobuf!=4.21.0,!=4.21.1,!=4.21.2,!=4.21.3,!=4.21.4,!=4.21.5,<5.0.0dev,>=3.20.3 in /usr/local/lib/python3.10/dist-packages (from tensorflow) (3.20.3)\n",
            "Requirement already satisfied: setuptools in /usr/local/lib/python3.10/dist-packages (from tensorflow) (67.7.2)\n",
            "Requirement already satisfied: six>=1.12.0 in /usr/local/lib/python3.10/dist-packages (from tensorflow) (1.16.0)\n",
            "Requirement already satisfied: tensorboard<2.13,>=2.12 in /usr/local/lib/python3.10/dist-packages (from tensorflow) (2.12.3)\n",
            "Requirement already satisfied: tensorflow-estimator<2.13,>=2.12.0 in /usr/local/lib/python3.10/dist-packages (from tensorflow) (2.12.0)\n",
            "Requirement already satisfied: termcolor>=1.1.0 in /usr/local/lib/python3.10/dist-packages (from tensorflow) (2.3.0)\n",
            "Requirement already satisfied: typing-extensions>=3.6.6 in /usr/local/lib/python3.10/dist-packages (from tensorflow) (4.7.1)\n",
            "Requirement already satisfied: wrapt<1.15,>=1.11.0 in /usr/local/lib/python3.10/dist-packages (from tensorflow) (1.14.1)\n",
            "Requirement already satisfied: tensorflow-io-gcs-filesystem>=0.23.1 in /usr/local/lib/python3.10/dist-packages (from tensorflow) (0.33.0)\n",
            "Requirement already satisfied: scipy>=1.3.2 in /usr/local/lib/python3.10/dist-packages (from scikit-learn) (1.10.1)\n",
            "Requirement already satisfied: joblib>=1.1.1 in /usr/local/lib/python3.10/dist-packages (from scikit-learn) (1.3.2)\n",
            "Requirement already satisfied: threadpoolctl>=2.0.0 in /usr/local/lib/python3.10/dist-packages (from scikit-learn) (3.2.0)\n",
            "Requirement already satisfied: wheel<1.0,>=0.23.0 in /usr/local/lib/python3.10/dist-packages (from astunparse>=1.6.0->tensorflow) (0.41.2)\n",
            "Requirement already satisfied: ml-dtypes>=0.2.0 in /usr/local/lib/python3.10/dist-packages (from jax>=0.3.15->tensorflow) (0.2.0)\n",
            "Requirement already satisfied: google-auth<3,>=1.6.3 in /usr/local/lib/python3.10/dist-packages (from tensorboard<2.13,>=2.12->tensorflow) (2.17.3)\n",
            "Requirement already satisfied: google-auth-oauthlib<1.1,>=0.5 in /usr/local/lib/python3.10/dist-packages (from tensorboard<2.13,>=2.12->tensorflow) (1.0.0)\n",
            "Requirement already satisfied: markdown>=2.6.8 in /usr/local/lib/python3.10/dist-packages (from tensorboard<2.13,>=2.12->tensorflow) (3.4.4)\n",
            "Requirement already satisfied: requests<3,>=2.21.0 in /usr/local/lib/python3.10/dist-packages (from tensorboard<2.13,>=2.12->tensorflow) (2.31.0)\n",
            "Requirement already satisfied: tensorboard-data-server<0.8.0,>=0.7.0 in /usr/local/lib/python3.10/dist-packages (from tensorboard<2.13,>=2.12->tensorflow) (0.7.1)\n",
            "Requirement already satisfied: werkzeug>=1.0.1 in /usr/local/lib/python3.10/dist-packages (from tensorboard<2.13,>=2.12->tensorflow) (2.3.7)\n",
            "Requirement already satisfied: cachetools<6.0,>=2.0.0 in /usr/local/lib/python3.10/dist-packages (from google-auth<3,>=1.6.3->tensorboard<2.13,>=2.12->tensorflow) (5.3.1)\n",
            "Requirement already satisfied: pyasn1-modules>=0.2.1 in /usr/local/lib/python3.10/dist-packages (from google-auth<3,>=1.6.3->tensorboard<2.13,>=2.12->tensorflow) (0.3.0)\n",
            "Requirement already satisfied: rsa<5,>=3.1.4 in /usr/local/lib/python3.10/dist-packages (from google-auth<3,>=1.6.3->tensorboard<2.13,>=2.12->tensorflow) (4.9)\n",
            "Requirement already satisfied: requests-oauthlib>=0.7.0 in /usr/local/lib/python3.10/dist-packages (from google-auth-oauthlib<1.1,>=0.5->tensorboard<2.13,>=2.12->tensorflow) (1.3.1)\n",
            "Requirement already satisfied: charset-normalizer<4,>=2 in /usr/local/lib/python3.10/dist-packages (from requests<3,>=2.21.0->tensorboard<2.13,>=2.12->tensorflow) (3.2.0)\n",
            "Requirement already satisfied: idna<4,>=2.5 in /usr/local/lib/python3.10/dist-packages (from requests<3,>=2.21.0->tensorboard<2.13,>=2.12->tensorflow) (3.4)\n",
            "Requirement already satisfied: urllib3<3,>=1.21.1 in /usr/local/lib/python3.10/dist-packages (from requests<3,>=2.21.0->tensorboard<2.13,>=2.12->tensorflow) (2.0.4)\n",
            "Requirement already satisfied: certifi>=2017.4.17 in /usr/local/lib/python3.10/dist-packages (from requests<3,>=2.21.0->tensorboard<2.13,>=2.12->tensorflow) (2023.7.22)\n",
            "Requirement already satisfied: MarkupSafe>=2.1.1 in /usr/local/lib/python3.10/dist-packages (from werkzeug>=1.0.1->tensorboard<2.13,>=2.12->tensorflow) (2.1.3)\n",
            "Requirement already satisfied: pyasn1<0.6.0,>=0.4.6 in /usr/local/lib/python3.10/dist-packages (from pyasn1-modules>=0.2.1->google-auth<3,>=1.6.3->tensorboard<2.13,>=2.12->tensorflow) (0.5.0)\n",
            "Requirement already satisfied: oauthlib>=3.0.0 in /usr/local/lib/python3.10/dist-packages (from requests-oauthlib>=0.7.0->google-auth-oauthlib<1.1,>=0.5->tensorboard<2.13,>=2.12->tensorflow) (3.2.2)\n"
          ]
        }
      ],
      "source": [
        "# Installing Necessary Libraries\n",
        "!pip install numpy pandas matplotlib seaborn tensorflow scikit-learn\n"
      ]
    },
    {
      "cell_type": "code",
      "execution_count": 5,
      "metadata": {
        "colab": {
          "base_uri": "https://localhost:8080/"
        },
        "id": "11N3y2A3Zzq2",
        "outputId": "4c9d64e2-cb5e-4ce3-d9e9-325c2ea3c0d4"
      },
      "outputs": [
        {
          "output_type": "stream",
          "name": "stdout",
          "text": [
            "Number of original images: 440\n",
            "Number of tampered images: 160\n",
            "Number of ground truth images: 160\n"
          ]
        }
      ],
      "source": [
        "# Load the images in sorted order according to their categories\n",
        "\n",
        "# Define paths to dataset folders\n",
        "base_folder = '/content/drive/My Drive/MICC_F600'  # Change this path to match your actual dataset location\n",
        "original_folder = os.path.join(base_folder, 'original')\n",
        "tampered_folder = os.path.join(base_folder, 'tampered')\n",
        "ground_truth_folder = os.path.join(base_folder, 'groundtruth')\n",
        "\n",
        "# List files in folders\n",
        "original_files = os.listdir(original_folder)\n",
        "tampered_files = os.listdir(tampered_folder)\n",
        "ground_truth_files = os.listdir(ground_truth_folder)\n",
        "\n",
        "# Display the number of images in each category\n",
        "print(f\"Number of original images: {len(original_files)}\")\n",
        "print(f\"Number of tampered images: {len(tampered_files)}\")\n",
        "print(f\"Number of ground truth images: {len(ground_truth_files)}\")\n"
      ]
    },
    {
      "cell_type": "markdown",
      "metadata": {
        "id": "9DiOAAROef0h"
      },
      "source": [
        "## Data Preprocessing and Augmentation\n",
        "\n",
        "In this step, the images from the dataset will be loaded and pre-processed. Images are resized to a common size, and data augmentation techniques like random horizontal flipping are applied. Additionally, pixel values are normalized to match the statistics of the pretrained models that we will use.\n",
        "\n",
        "The preprocessing and augmentation steps are essential to enhance the model's ability to generalize to new, unseen data. In this particular deployment, we shall be using Pytorchs Torch vision library as the pre-trained model.\n"
      ]
    },
    {
      "cell_type": "code",
      "execution_count": 6,
      "metadata": {
        "colab": {
          "base_uri": "https://localhost:8080/"
        },
        "id": "_q0oBT59dHu3",
        "outputId": "26c20d9f-daae-4aab-a5d5-849f5e4e6c3f"
      },
      "outputs": [
        {
          "output_type": "execute_result",
          "data": {
            "text/plain": [
              "(tensor([[[0.1412, 0.1608, 0.1608,  ..., 0.2980, 0.2980, 0.2745],\n",
              "          [0.1412, 0.1569, 0.1412,  ..., 0.2706, 0.2784, 0.2627],\n",
              "          [0.1882, 0.1804, 0.1608,  ..., 0.2784, 0.3020, 0.2510],\n",
              "          ...,\n",
              "          [0.6275, 0.6078, 0.5882,  ..., 0.4627, 0.4549, 0.4588],\n",
              "          [0.6314, 0.5804, 0.5804,  ..., 0.4902, 0.4745, 0.4667],\n",
              "          [0.6706, 0.6078, 0.5804,  ..., 0.4588, 0.4706, 0.4431]],\n",
              " \n",
              "         [[0.1961, 0.2078, 0.2000,  ..., 0.3608, 0.3608, 0.3373],\n",
              "          [0.1882, 0.1961, 0.1765,  ..., 0.3529, 0.3529, 0.3373],\n",
              "          [0.2235, 0.2039, 0.1765,  ..., 0.3490, 0.3686, 0.3255],\n",
              "          ...,\n",
              "          [0.6627, 0.6392, 0.6235,  ..., 0.4863, 0.4784, 0.4784],\n",
              "          [0.6627, 0.6157, 0.6196,  ..., 0.5176, 0.5098, 0.4941],\n",
              "          [0.7059, 0.6431, 0.6157,  ..., 0.4824, 0.4941, 0.4667]],\n",
              " \n",
              "         [[0.1412, 0.1490, 0.1569,  ..., 0.2588, 0.2588, 0.2353],\n",
              "          [0.1373, 0.1373, 0.1373,  ..., 0.2314, 0.2353, 0.2196],\n",
              "          [0.1608, 0.1529, 0.1412,  ..., 0.2314, 0.2627, 0.2118],\n",
              "          ...,\n",
              "          [0.6588, 0.6392, 0.6157,  ..., 0.4745, 0.4706, 0.4706],\n",
              "          [0.6549, 0.6078, 0.6039,  ..., 0.5137, 0.4980, 0.4824],\n",
              "          [0.6902, 0.6314, 0.6118,  ..., 0.4784, 0.4863, 0.4588]]]),\n",
              " tensor([[[0.9059, 0.9098, 0.8980,  ..., 1.0000, 1.0000, 1.0000],\n",
              "          [0.6471, 0.8980, 0.9373,  ..., 1.0000, 1.0000, 1.0000],\n",
              "          [0.4078, 0.8902, 0.9686,  ..., 1.0000, 1.0000, 1.0000],\n",
              "          ...,\n",
              "          [0.6863, 0.6941, 0.6902,  ..., 0.0471, 0.0588, 0.1294],\n",
              "          [0.6941, 0.6902, 0.6745,  ..., 0.0431, 0.0549, 0.1176],\n",
              "          [0.6824, 0.6745, 0.6706,  ..., 0.0431, 0.0549, 0.1176]],\n",
              " \n",
              "         [[0.9255, 0.9294, 0.9137,  ..., 1.0000, 1.0000, 1.0000],\n",
              "          [0.6392, 0.9137, 0.9529,  ..., 1.0000, 1.0000, 1.0000],\n",
              "          [0.3725, 0.9020, 0.9843,  ..., 1.0000, 1.0000, 1.0000],\n",
              "          ...,\n",
              "          [0.7373, 0.7412, 0.7373,  ..., 0.0627, 0.0824, 0.1490],\n",
              "          [0.7490, 0.7412, 0.7216,  ..., 0.0627, 0.0784, 0.1412],\n",
              "          [0.7373, 0.7255, 0.7176,  ..., 0.0627, 0.0784, 0.1373]],\n",
              " \n",
              "         [[0.9373, 0.9529, 0.9451,  ..., 1.0000, 1.0000, 1.0000],\n",
              "          [0.6980, 0.9412, 0.9725,  ..., 1.0000, 1.0000, 1.0000],\n",
              "          [0.4784, 0.9216, 0.9922,  ..., 1.0000, 1.0000, 1.0000],\n",
              "          ...,\n",
              "          [0.7373, 0.7412, 0.7373,  ..., 0.0627, 0.0824, 0.1569],\n",
              "          [0.7451, 0.7412, 0.7216,  ..., 0.0588, 0.0784, 0.1490],\n",
              "          [0.7373, 0.7255, 0.7176,  ..., 0.0627, 0.0784, 0.1490]]]),\n",
              " tensor([[[0., 0., 0.,  ..., 0., 0., 0.],\n",
              "          [0., 0., 0.,  ..., 0., 0., 0.],\n",
              "          [0., 0., 0.,  ..., 0., 0., 0.],\n",
              "          ...,\n",
              "          [0., 0., 0.,  ..., 0., 0., 0.],\n",
              "          [0., 0., 0.,  ..., 0., 0., 0.],\n",
              "          [0., 0., 0.,  ..., 0., 0., 0.]],\n",
              " \n",
              "         [[0., 0., 0.,  ..., 0., 0., 0.],\n",
              "          [0., 0., 0.,  ..., 0., 0., 0.],\n",
              "          [0., 0., 0.,  ..., 0., 0., 0.],\n",
              "          ...,\n",
              "          [0., 0., 0.,  ..., 0., 0., 0.],\n",
              "          [0., 0., 0.,  ..., 0., 0., 0.],\n",
              "          [0., 0., 0.,  ..., 0., 0., 0.]],\n",
              " \n",
              "         [[0., 0., 0.,  ..., 0., 0., 0.],\n",
              "          [0., 0., 0.,  ..., 0., 0., 0.],\n",
              "          [0., 0., 0.,  ..., 0., 0., 0.],\n",
              "          ...,\n",
              "          [0., 0., 0.,  ..., 0., 0., 0.],\n",
              "          [0., 0., 0.,  ..., 0., 0., 0.],\n",
              "          [0., 0., 0.,  ..., 0., 0., 0.]]]))"
            ]
          },
          "metadata": {},
          "execution_count": 6
        }
      ],
      "source": [
        "# Set random seed for reproducibility\n",
        "random.seed(42)\n",
        "\n",
        "# Define transformations\n",
        "transform = transforms.Compose([\n",
        "    transforms.Resize((224, 224)),  # Resize images to a common size\n",
        "    transforms.RandomHorizontalFlip(),  # Apply random horizontal flips for augmentation\n",
        "    transforms.ToTensor()  # Convert images to PyTorch tensors\n",
        "])\n",
        "\n",
        "# Load and preprocess original images\n",
        "original_images = []\n",
        "for img_file in original_files:\n",
        "    img_path = os.path.join(original_folder, img_file)\n",
        "    img = Image.open(img_path).convert(\"RGB\")\n",
        "    img = transform(img)\n",
        "    original_images.append(img)\n",
        "\n",
        "# Load and preprocess tampered images\n",
        "tampered_images = []\n",
        "for img_file in tampered_files:\n",
        "    img_path = os.path.join(tampered_folder, img_file)\n",
        "    img = Image.open(img_path).convert(\"RGB\")\n",
        "    img = transform(img)\n",
        "    tampered_images.append(img)\n",
        "\n",
        "# Load and preprocess ground truth images\n",
        "ground_truth_images = []\n",
        "for img_file in ground_truth_files:\n",
        "    img_path = os.path.join(ground_truth_folder, img_file)\n",
        "    img = Image.open(img_path).convert(\"RGB\")\n",
        "    img = transform(img)\n",
        "    ground_truth_images.append(img)\n",
        "\n",
        "# Display the first preprocessed image in each category\n",
        "original_images[0], tampered_images[0], ground_truth_images[0]\n"
      ]
    },
    {
      "cell_type": "markdown",
      "metadata": {
        "id": "I5yDe68rfRLI"
      },
      "source": [
        "This code uses `.convert(\"RGB\")` to ensure that the images are in RGB format, allowing them to be properly processed by the normalization process.\n",
        "\n",
        "Now that the data has been successfully pre-processed, the next step is tobuild the model."
      ]
    },
    {
      "cell_type": "markdown",
      "metadata": {
        "id": "Td7YEKEVkFzL"
      },
      "source": [
        "## Model Building\n",
        "\n",
        "The model is a simple Convolutional Neural Network (CNN) designed for image forgery detection. The CNN architecture consists of convolutional layers to capture features and max-pooling layers for down-sampling. The extracted features are then passed through fully connected layers for classification.\n",
        "The model's architecture and complexity can be adjusted based on the specific requirements of the forgery detection task."
      ]
    },
    {
      "cell_type": "code",
      "source": [
        "# Define a custom class for the Forgery Detection Model\n",
        "class ForgeryDetectionModel(nn.Module):\n",
        "    def __init__(self, num_classes):\n",
        "        super(ForgeryDetectionModel, self).__init__()\n",
        "\n",
        "        # Convolutional layers for feature extraction\n",
        "        self.conv_layers = nn.Sequential(\n",
        "            nn.Conv2d(3, 16, kernel_size=3, padding=1),\n",
        "            nn.ReLU(),  # ReLU activation function\n",
        "            nn.MaxPool2d(kernel_size=2, stride=2),  # Max-pooling layer\n",
        "            nn.Conv2d(16, 32, kernel_size=3, padding=1),\n",
        "            nn.ReLU(),\n",
        "            nn.MaxPool2d(kernel_size=2, stride=2)\n",
        "        )\n",
        "\n",
        "        # Fully connected layers for classification\n",
        "        self.fc_layers = nn.Sequential(\n",
        "            nn.Linear(32 * 56 * 56, 128),  # Fully connected layer with 128 neurons\n",
        "            nn.ReLU(),\n",
        "            nn.Linear(128, num_classes)  # Output layer with 'num_classes' neurons\n",
        "        )\n",
        "\n",
        "    # Forward pass of the model\n",
        "    def forward(self, x):\n",
        "        x = self.conv_layers(x)  # Apply convolutional layers\n",
        "        x = x.view(x.size(0), -1)  # Flatten the tensor for the fully connected layers\n",
        "        x = self.fc_layers(x)  # Apply fully connected layers for classification\n",
        "        return x\n",
        "\n",
        "# Initialize the model with the specified number of classes (Genuine or forged)\n",
        "num_classes = 2\n",
        "model = ForgeryDetectionModel(num_classes)\n"
      ],
      "metadata": {
        "id": "9HgHplnhIIXP"
      },
      "execution_count": 7,
      "outputs": []
    },
    {
      "cell_type": "code",
      "execution_count": 8,
      "metadata": {
        "id": "65hFdkEJeocu"
      },
      "outputs": [],
      "source": [
        "# Define a custom class for the Forgery Detection Model\n",
        "class ForgeryDetectionModel(nn.Module):\n",
        "    def __init__(self, num_classes):\n",
        "        super(ForgeryDetectionModel, self).__init__()\n",
        "\n",
        "        # Define the convolutional layers for feature extraction\n",
        "        self.conv_layers = nn.Sequential(\n",
        "            nn.Conv2d(3, 16, kernel_size=3, padding=1),  # 3 input channels, 16 output channels, 3x3 kernel, 1-pixel padding\n",
        "            nn.ReLU(),  # Apply ReLU activation function\n",
        "            nn.MaxPool2d(kernel_size=2, stride=2),  # Max-pooling layer with 2x2 kernel and stride\n",
        "            nn.Conv2d(16, 32, kernel_size=3, padding=1),  # 16 input channels, 32 output channels, 3x3 kernel, 1-pixel padding\n",
        "            nn.ReLU(),\n",
        "            nn.MaxPool2d(kernel_size=2, stride=2)  # Max-pooling layer with 2x2 kernel and stride\n",
        "        )\n",
        "\n",
        "        # Define the fully connected layers for classification\n",
        "        self.fc_layers = nn.Sequential(\n",
        "            nn.Linear(32 * 56 * 56, 128),  # Fully connected layer with 32x56x56 input features and 128 output features\n",
        "            nn.ReLU(),  # Apply ReLU activation function\n",
        "            nn.Linear(128, num_classes)  # Fully connected layer with 128 input features and 'num_classes' output features\n",
        "        )\n",
        "\n",
        "    # Forward pass of the model\n",
        "    def forward(self, x):\n",
        "        x = self.conv_layers(x)  # Apply convolutional layers for feature extraction\n",
        "        x = x.view(x.size(0), -1)  # Flatten the tensor for the fully connected layers\n",
        "        x = self.fc_layers(x)  # Apply fully connected layers for classification\n",
        "        return x\n",
        "\n",
        "# Initialize the model with the specified number of classes (Genuine or forged)\n",
        "num_classes = 2\n",
        "model = ForgeryDetectionModel(num_classes)\n",
        "\n"
      ]
    },
    {
      "cell_type": "markdown",
      "metadata": {
        "id": "gUalK1lugmSx"
      },
      "source": [
        "This code defines a simple CNN architecture for the forgery detection model. The convolutional layers are followed by fully connected layers for classification."
      ]
    },
    {
      "cell_type": "markdown",
      "metadata": {
        "id": "cEXqWA3wgzq9"
      },
      "source": [
        "## Training and Evaluation\n",
        "\n",
        "The dataset is split into training and testing sets, and data loaders are created for efficient batch processing during training. A cross-entropy loss function and Adam optimizer are used for training the model.\n",
        "\n",
        "The model is trained for multiple epochs, and its performance is evaluated on the test set. The final test accuracy serves as a metric for the model's effectiveness in detecting image forgery.\n"
      ]
    },
    {
      "cell_type": "code",
      "execution_count": 9,
      "metadata": {
        "colab": {
          "base_uri": "https://localhost:8080/"
        },
        "id": "-Ke0MtRDgf6U",
        "outputId": "8ba31d58-0a5b-4005-c49f-b3a47bd48778"
      },
      "outputs": [
        {
          "output_type": "stream",
          "name": "stdout",
          "text": [
            "Test Accuracy: 0.78\n"
          ]
        }
      ],
      "source": [
        "# Combine images and labels\n",
        "all_images = original_images + tampered_images\n",
        "all_labels = [0] * len(original_images) + [1] * len(tampered_images)\n",
        "\n",
        "# Split dataset\n",
        "train_images, test_images, train_labels, test_labels = train_test_split(all_images, all_labels, test_size=0.2, random_state=42)\n",
        "\n",
        "# Create data loaders\n",
        "train_dataset = TensorDataset(torch.stack(train_images), torch.tensor(train_labels))\n",
        "test_dataset = TensorDataset(torch.stack(test_images), torch.tensor(test_labels))\n",
        "\n",
        "train_loader = DataLoader(train_dataset, batch_size=32, shuffle=True)\n",
        "test_loader = DataLoader(test_dataset, batch_size=32, shuffle=False)\n",
        "\n",
        "# Define loss function and optimizer\n",
        "criterion = nn.CrossEntropyLoss()\n",
        "optimizer = optim.Adam(model.parameters(), lr=0.001)\n",
        "\n",
        "# Train the model\n",
        "num_epochs = 10\n",
        "for epoch in range(num_epochs):\n",
        "    model.train()\n",
        "    for inputs, labels in train_loader:\n",
        "        optimizer.zero_grad()\n",
        "        outputs = model(inputs)\n",
        "        loss = criterion(outputs, labels)\n",
        "        loss.backward()\n",
        "        optimizer.step()\n",
        "\n",
        "# Evaluate the model\n",
        "model.eval()\n",
        "correct = 0\n",
        "total = 0\n",
        "with torch.no_grad():\n",
        "    for inputs, labels in test_loader:\n",
        "        outputs = model(inputs)\n",
        "        _, predicted = torch.max(outputs.data, 1)\n",
        "        total += labels.size(0)\n",
        "        correct += (predicted == labels).sum().item()\n",
        "\n",
        "accuracy = correct / total\n",
        "print(f'Test Accuracy: {accuracy:.2f}')\n"
      ]
    },
    {
      "cell_type": "markdown",
      "metadata": {
        "id": "vh65vkHuhCBR"
      },
      "source": [
        "The code above splits the dataset, creates data loaders, defines the loss function and optimizer, trains the model, and evaluates its accuracy on the test set."
      ]
    },
    {
      "cell_type": "markdown",
      "metadata": {
        "id": "MuSW--OKisf8"
      },
      "source": [
        "## Documentation and Visualization\n",
        "\n",
        "In this step, we will add visualization of training curves, confusion matrices, or any other relevant evaluation feature. This will help in the understanding of our model and findings. This will help us in efforts to make the model more efficient (tuning hyperparameters)"
      ]
    },
    {
      "cell_type": "markdown",
      "metadata": {
        "id": "LIyaaK_3lBDd"
      },
      "source": [
        "### Training Loss Curve:\n",
        "\n",
        "The training loss curve is a graph that plots the loss of a deep model over the course of its training. The loss is a measure of how well the model is performing on the training data. A lower loss indicates that the model is performing better."
      ]
    },
    {
      "cell_type": "code",
      "execution_count": 10,
      "metadata": {
        "id": "eCTAdkK8llXK"
      },
      "outputs": [],
      "source": [
        "train_losses = []  # Initialize an empty list to store training losses"
      ]
    },
    {
      "cell_type": "code",
      "execution_count": 11,
      "metadata": {
        "id": "iUihUDF4mJwS"
      },
      "outputs": [],
      "source": [
        "# Inside the training loop\n",
        "for epoch in range(num_epochs):\n",
        "    model.train()  # Set the model to training mode\n",
        "    for inputs, labels in train_loader:\n",
        "        optimizer.zero_grad()  # Clear previously accumulated gradients\n",
        "        outputs = model(inputs)  # Forward pass: compute predicted outputs\n",
        "        loss = criterion(outputs, labels)  # Calculate the loss\n",
        "        loss.backward()  # Backpropagation: compute gradients of the loss with respect to model parameters\n",
        "        optimizer.step()  # Update model parameters using the computed gradients\n",
        "        train_losses.append(loss.item())  # Add current loss to the list of training losses"
      ]
    },
    {
      "cell_type": "code",
      "execution_count": 12,
      "metadata": {
        "colab": {
          "base_uri": "https://localhost:8080/",
          "height": 487
        },
        "id": "Q9nyfxMvmV3-",
        "outputId": "c04130e4-5a9e-4a04-b1bf-e950847756d9"
      },
      "outputs": [
        {
          "output_type": "display_data",
          "data": {
            "text/plain": [
              "<Figure size 800x500 with 1 Axes>"
            ],
            "image/png": "[encoded data removed]"
          },
          "metadata": {}
        }
      ],
      "source": [
        "# Plot training loss curve\n",
        "plt.figure(figsize=(8, 5))\n",
        "plt.plot(range(len(train_losses)), train_losses, label='Training Loss')\n",
        "plt.xlabel('Iteration')\n",
        "plt.ylabel('Loss')\n",
        "plt.title('Training Loss Curve')\n",
        "plt.legend()\n",
        "plt.grid()\n",
        "plt.show()\n"
      ]
    },
    {
      "cell_type": "markdown",
      "metadata": {
        "id": "6FdF52VtqjTb"
      },
      "source": [
        "Here's what can be infered from the loss graph:\n",
        "\n",
        "* **Trend:** It appears that the loss is generally decreasing, which is a good sign. A decreasing loss indicates that the model is learning and improving its performance.\n",
        "\n",
        "* **Volatility:** The graph is highly oscillatory. This suggests that the learning rate is too high. A smoother descent might be obtained by reducing the learning rate or using learning rate scheduling techniques. This is something we can consider in tuning efforts.\n",
        "\n",
        "* **Convergence:** If the loss appears to be stabilizing towards the end, it could be a sign that the model has nearly converged, and further training might not lead to substantial improvements. This is not the case, pointing that there may be opportunities for further training of the model.\n",
        "\n",
        "That said, the hyper parameters of the model (e.g., Learning rate, Optimizer,\n",
        "Batch size, Number of epochs, Regularization, Activation function, etc) have not been tweeked. The model therefore clearly has room to be better at it's predictions."
      ]
    },
    {
      "cell_type": "markdown",
      "metadata": {
        "id": "iX1erEqDrXEy"
      },
      "source": [
        "Improving the performance of the model can be approached from multiple angles. Given the loss graph of our model seen above. Here are some potential modifications and strategies to consider:\n",
        "\n",
        "* **Learning Rate Scheduling:** Instead of using a constant learning rate,  a learning rate scheduler can be deployed to decrease the learning rate over epochs. This can help the model converge faster and avoid oscillations in the loss.\n",
        "\n",
        "\n",
        "\n",
        "* **Data Augmentation:** Augmenting your data can prevent overfitting and provide more varied samples for the model to learn from. Common augmentations for images include rotations, flips, and translations.\n",
        "You can use libraries like torchvision.transforms to easily apply augmentations.\n",
        "\n",
        "* **Regularization:** L2 regularization can be added via the weight_decay parameter in the optimizer.\n",
        "Dropout layers can be added to the model architecture to prevent overfitting.\n",
        "Early Stopping:\n",
        "\n",
        "* **Monitor the validation loss:**  (you'd need to split your data into training, validation, and test sets for this). If the validation loss stops improving (or starts increasing), stop the training. This will prevent the model from overfitting.\n",
        "\n",
        "* **Model Architecture:** Depending on the current architecture of your model, consider making it deeper or shallower. Try different activation functions or batch normalization.\n",
        "\n",
        "* **Batch Size:** Experiment with different batch sizes. Sometimes, smaller batch sizes can offer better generalization, while larger batch sizes can speed up training.\n",
        "\n",
        "* **Different Optimizer:** While Adam is a popular and effective choice, you might want to experiment with other optimizers like SGD with momentum, RMSprop, or Adagrad.\n",
        "* **Monitor Validation Loss:** Instead of just tracking training loss, also track validation loss to understand if the model is overfitting.\n",
        "\n",
        "* **Check Data Quality:** Ensure that the data labels are accurate and that there's no data leakage. Check if the distribution of original_images and tampered_images is balanced. If not, consider techniques like oversampling, undersampling, or using weighted loss.\n",
        "\n",
        "* **Learning Rate Warm-up:** Gradually increase the learning rate from a small value to the intended initial learning rate. This can sometimes stabilize training in the initial phases.\n",
        "\n",
        "It's essential to remember that model training and improvement is often an iterative process. Implementing one or a combination of the above suggestions may lead to better performance, but it's always a good idea to experiment and monitor the outcomes closely.\n",
        "\n",
        "\n",
        "\n",
        "\n"
      ]
    },
    {
      "cell_type": "markdown",
      "source": [
        "##Performance Evaluation\n",
        "Model evaluation is the process of assessing the performance of a machine learning model. This is done by evaluating the model on a held-out dataset that the model has not seen before. The held-out dataset is called the test set.\n",
        "\n",
        "we shall be using the Confusion matrix to evaluate our model performance. A confusion matrix is a table that shows the true and predicted labels for each class. The confusion matrix can be used to visualize the model's performance.\n",
        "\n",
        "In a typical confusion matrix layout for a binary classification problem, the results of the models performance is presented as laid out below:\n",
        "\n",
        "* **True Positive (TP):** The top-left cell typically represents the number of positive samples that were correctly classified as positive.\n",
        "* **False Negative (FN):** The bottom-left cell represents the number of positive samples that were incorrectly classified as negative.\n",
        "* **False Positive (FP):** The top-right cell represents the number of negative samples that were incorrectly classified as positive.\n",
        "* **True Negative (TN):** The bottom-right cell represents the number of negative samples that were correctly classified as negative.\n",
        "\n",
        "Below, we shall generate the confusion matrix for our model."
      ],
      "metadata": {
        "id": "jsapWLqpS-Gd"
      }
    },
    {
      "cell_type": "code",
      "execution_count": 13,
      "metadata": {
        "id": "M1T4QQFnsmwZ"
      },
      "outputs": [],
      "source": [
        "from sklearn.metrics import confusion_matrix\n",
        "\n",
        "# Calculate confusion matrix\n",
        "model.eval()\n",
        "all_predictions = []\n",
        "with torch.no_grad():\n",
        "    for inputs, labels in test_loader:\n",
        "        outputs = model(inputs)\n",
        "        _, predicted = torch.max(outputs.data, 1)\n",
        "        all_predictions.extend(predicted.tolist())\n",
        "\n",
        "cm = confusion_matrix(test_labels, all_predictions)\n"
      ]
    },
    {
      "cell_type": "code",
      "source": [
        "seed = 42\n",
        "random.seed(seed)\n",
        "np.random.seed(seed)\n",
        "torch.manual_seed(seed)\n",
        "if torch.cuda.is_available():\n",
        "    torch.cuda.manual_seed(seed)\n",
        "    torch.backends.cudnn.deterministic = True\n",
        "    torch.backends.cudnn.benchmark = False\n",
        "\n",
        "# Calculate test accuracy\n",
        "model.eval()\n",
        "correct = 0\n",
        "total = 0\n",
        "with torch.no_grad():\n",
        "    for inputs, labels in test_loader:\n",
        "        outputs = model(inputs)\n",
        "        _, predicted = torch.max(outputs.data, 1)\n",
        "        total += labels.size(0)\n",
        "        correct += (predicted == labels).sum().item()\n",
        "\n",
        "test_accuracy = correct / total\n",
        "print(f'Test Accuracy: {test_accuracy:.2%}')\n",
        "\n",
        "# Plot confusion matrix\n",
        "plt.figure(figsize=(8, 6))\n",
        "sns.heatmap(cm, annot=True, fmt='d', cmap='Blues', xticklabels=['Genuine', 'Forged'], yticklabels=['Genuine', 'Forged'])\n",
        "plt.xlabel('Predicted')\n",
        "plt.ylabel('True')\n",
        "plt.title('Confusion Matrix')\n",
        "plt.show()"
      ],
      "metadata": {
        "colab": {
          "base_uri": "https://localhost:8080/",
          "height": 581
        },
        "id": "mSj6BAmI_ajN",
        "outputId": "4028d11a-8a60-46a0-8a7e-33a48fe4b26a"
      },
      "execution_count": 14,
      "outputs": [
        {
          "output_type": "stream",
          "name": "stdout",
          "text": [
            "Test Accuracy: 82.50%\n"
          ]
        },
        {
          "output_type": "display_data",
          "data": {
            "text/plain": [
              "<Figure size 800x600 with 2 Axes>"
            ],
            "image/png": "[encoded data removed]"
          },
          "metadata": {}
        }
      ]
    },
    {
      "cell_type": "markdown",
      "source": [
        "**True Positive (TP) - 81:** This indicates that the model correctly identified 81 instances as positive when they were indeed positive. In the context of the problem, these are the genuine images correctly classified as genuine.\n",
        "\n",
        "**False Positive (FP) - 8:** This suggests that the model incorrectly classified 8 instances as positive when they were actually negative. In this scenario, the model identified forged images as genuine, which could have serious implications depending on the application. False positives might lead to a loss of trust in the model's predictions.\n",
        "\n",
        "**False Negative (FN) - 11:** This means that the model incorrectly classified 17 instances as negative when they were actually positive. These are genuine images that the model mistakenly identified as forged. False negatives can result in missed opportunities to detect genuine images accurately.\n",
        "\n",
        "**True Negative (TN) - 20:** The model correctly identified 14 instances as negative when they were indeed negative. These are forged images correctly classified as forged.\n",
        "\n",
        "Now, let's calculate some important performance metrics:\n",
        "\n",
        "* **Accuracy:** Accuracy measures the overall correctness of the model's predictions.\n",
        "\n",
        "  Accuracy = (TP + TN) / (TP + TN + FP + FN) = (81 + 20) / (81 + 20 + 8 + 11)  = 101 / 120 ≈ 0.8416666666666667 or **84.1%**\n",
        "\n",
        "* **Precision:** Precision represents the proportion of correctly predicted positives among all instances predicted as positive.\n",
        "\n",
        "  Precision = TP / (TP + FP) = 81/(81+8) ≈ 0.9101123595505618 or **91.01%**\n",
        "\n",
        "* **Recall (Sensitivity):** Recall measures the proportion of correctly predicted positives among all actual positive instances.\n",
        "\n",
        "  Recall = TP / (TP + FN) = 81 / (81 + 11) ≈ 0.8804347826086957 or **88.04%**\n",
        "\n",
        "* **F1-Score:** The F1-score is the harmonic mean of precision and recall, providing a balanced measure of the model's accuracy.\n",
        "\n",
        "  F1-Score = 2 * (Precision * Recall) / (Precision + Recall) ≈ 2 * (91.0 * 88.04) / (91.0 + 88.04) = 89.49553172475424 or **89.5%**\n",
        "\n",
        "These performance metrics offer a comprehensive view of the model's strengths and weaknesses in different aspects. An accuracy of **84.1%** suggests that the model is correct for a significant portion of instances, but there's room for improvement. The high precision of **91.01%** indicates that when the model predicts an instance as positive, it's often correct. However, the recall of **88.04%** indicates that there's a notable percentage of actual positive instances that the model is missing. The F1-score of **89.5%** considers both precision and recall and can be used as a single measure to gauge the model's overall performance.\n",
        "\n",
        "In conclusion, while the model has shown promising results in some areas, there's potential for optimization, especially in reducing false negatives to improve recall and overall model accuracy. We shall explore the prospects of inprovements on the model as we progress."
      ],
      "metadata": {
        "id": "bPJsapJaZaw6"
      }
    },
    {
      "cell_type": "code",
      "source": [
        "import pandas as pd\n",
        "\n",
        "# Metrics data\n",
        "metrics_data = {\n",
        "    'Metric': ['True Positive (TP)', 'False Positive (FP)', 'False Negative (FN)', 'True Negative (TN)', 'Accuracy', 'Precision', 'Recall (Sensitivity)', 'F1-Score'],\n",
        "    'Value': [81, 8, 11, 20, '84.17%', '91.01%', '88.04%', '89.50%']\n",
        "}\n",
        "\n",
        "# Create a data frame\n",
        "metrics_df = pd.DataFrame(metrics_data)\n",
        "\n",
        "# Display the data frame\n",
        "metrics_df\n"
      ],
      "metadata": {
        "colab": {
          "base_uri": "https://localhost:8080/",
          "height": 300
        },
        "id": "fcwhXtKQ6daR",
        "outputId": "775e0e3d-e800-4f24-dd92-6f0c0c16d13e"
      },
      "execution_count": 15,
      "outputs": [
        {
          "output_type": "execute_result",
          "data": {
            "text/plain": [
              "                 Metric   Value\n",
              "0    True Positive (TP)      81\n",
              "1   False Positive (FP)       8\n",
              "2   False Negative (FN)      11\n",
              "3    True Negative (TN)      20\n",
              "4              Accuracy  84.17%\n",
              "5             Precision  91.01%\n",
              "6  Recall (Sensitivity)  88.04%\n",
              "7              F1-Score  89.50%"
            ],
            "text/html": [
              "\n",
              "  <div id=\"df-64155d8b-467a-452d-a9c9-8699a9ac4cc7\" class=\"colab-df-container\">\n",
              "    <div>\n",
              "<style scoped>\n",
              "    .dataframe tbody tr th:only-of-type {\n",
              "        vertical-align: middle;\n",
              "    }\n",
              "\n",
              "    .dataframe tbody tr th {\n",
              "        vertical-align: top;\n",
              "    }\n",
              "\n",
              "    .dataframe thead th {\n",
              "        text-align: right;\n",
              "    }\n",
              "</style>\n",
              "<table border=\"1\" class=\"dataframe\">\n",
              "  <thead>\n",
              "    <tr style=\"text-align: right;\">\n",
              "      <th></th>\n",
              "      <th>Metric</th>\n",
              "      <th>Value</th>\n",
              "    </tr>\n",
              "  </thead>\n",
              "  <tbody>\n",
              "    <tr>\n",
              "      <th>0</th>\n",
              "      <td>True Positive (TP)</td>\n",
              "      <td>81</td>\n",
              "    </tr>\n",
              "    <tr>\n",
              "      <th>1</th>\n",
              "      <td>False Positive (FP)</td>\n",
              "      <td>8</td>\n",
              "    </tr>\n",
              "    <tr>\n",
              "      <th>2</th>\n",
              "      <td>False Negative (FN)</td>\n",
              "      <td>11</td>\n",
              "    </tr>\n",
              "    <tr>\n",
              "      <th>3</th>\n",
              "      <td>True Negative (TN)</td>\n",
              "      <td>20</td>\n",
              "    </tr>\n",
              "    <tr>\n",
              "      <th>4</th>\n",
              "      <td>Accuracy</td>\n",
              "      <td>84.17%</td>\n",
              "    </tr>\n",
              "    <tr>\n",
              "      <th>5</th>\n",
              "      <td>Precision</td>\n",
              "      <td>91.01%</td>\n",
              "    </tr>\n",
              "    <tr>\n",
              "      <th>6</th>\n",
              "      <td>Recall (Sensitivity)</td>\n",
              "      <td>88.04%</td>\n",
              "    </tr>\n",
              "    <tr>\n",
              "      <th>7</th>\n",
              "      <td>F1-Score</td>\n",
              "      <td>89.50%</td>\n",
              "    </tr>\n",
              "  </tbody>\n",
              "</table>\n",
              "</div>\n",
              "    <div class=\"colab-df-buttons\">\n",
              "\n",
              "  <div class=\"colab-df-container\">\n",
              "    <button class=\"colab-df-convert\" onclick=\"convertToInteractive('df-64155d8b-467a-452d-a9c9-8699a9ac4cc7')\"\n",
              "            title=\"Convert this dataframe to an interactive table.\"\n",
              "            style=\"display:none;\">\n",
              "\n",
              "  <svg xmlns=\"http://www.w3.org/2000/svg\" height=\"24px\" viewBox=\"0 -960 960 960\">\n",
              "    <path d=\"M120-120v-720h720v720H120Zm60-500h600v-160H180v160Zm220 220h160v-160H400v160Zm0 220h160v-160H400v160ZM180-400h160v-160H180v160Zm440 0h160v-160H620v160ZM180-180h160v-160H180v160Zm440 0h160v-160H620v160Z\"/>\n",
              "  </svg>\n",
              "    </button>\n",
              "\n",
              "  <style>\n",
              "    .colab-df-container {\n",
              "      display:flex;\n",
              "      gap: 12px;\n",
              "    }\n",
              "\n",
              "    .colab-df-convert {\n",
              "      background-color: #E8F0FE;\n",
              "      border: none;\n",
              "      border-radius: 50%;\n",
              "      cursor: pointer;\n",
              "      display: none;\n",
              "      fill: #1967D2;\n",
              "      height: 32px;\n",
              "      padding: 0 0 0 0;\n",
              "      width: 32px;\n",
              "    }\n",
              "\n",
              "    .colab-df-convert:hover {\n",
              "      background-color: #E2EBFA;\n",
              "      box-shadow: 0px 1px 2px rgba(60, 64, 67, 0.3), 0px 1px 3px 1px rgba(60, 64, 67, 0.15);\n",
              "      fill: #174EA6;\n",
              "    }\n",
              "\n",
              "    .colab-df-buttons div {\n",
              "      margin-bottom: 4px;\n",
              "    }\n",
              "\n",
              "    [theme=dark] .colab-df-convert {\n",
              "      background-color: #3B4455;\n",
              "      fill: #D2E3FC;\n",
              "    }\n",
              "\n",
              "    [theme=dark] .colab-df-convert:hover {\n",
              "      background-color: #434B5C;\n",
              "      box-shadow: 0px 1px 3px 1px rgba(0, 0, 0, 0.15);\n",
              "      filter: drop-shadow(0px 1px 2px rgba(0, 0, 0, 0.3));\n",
              "      fill: #FFFFFF;\n",
              "    }\n",
              "  </style>\n",
              "\n",
              "    <script>\n",
              "      const buttonEl =\n",
              "        document.querySelector('#df-64155d8b-467a-452d-a9c9-8699a9ac4cc7 button.colab-df-convert');\n",
              "      buttonEl.style.display =\n",
              "        google.colab.kernel.accessAllowed ? 'block' : 'none';\n",
              "\n",
              "      async function convertToInteractive(key) {\n",
              "        const element = document.querySelector('#df-64155d8b-467a-452d-a9c9-8699a9ac4cc7');\n",
              "        const dataTable =\n",
              "          await google.colab.kernel.invokeFunction('convertToInteractive',\n",
              "                                                    [key], {});\n",
              "        if (!dataTable) return;\n",
              "\n",
              "        const docLinkHtml = 'Like what you see? Visit the ' +\n",
              "          '<a target=\"_blank\" href=https://colab.research.google.com/notebooks/data_table.ipynb>data table notebook</a>'\n",
              "          + ' to learn more about interactive tables.';\n",
              "        element.innerHTML = '';\n",
              "        dataTable['output_type'] = 'display_data';\n",
              "        await google.colab.output.renderOutput(dataTable, element);\n",
              "        const docLink = document.createElement('div');\n",
              "        docLink.innerHTML = docLinkHtml;\n",
              "        element.appendChild(docLink);\n",
              "      }\n",
              "    </script>\n",
              "  </div>\n",
              "\n",
              "\n",
              "<div id=\"df-9485793b-8c2e-4ff7-8877-d16468750457\">\n",
              "  <button class=\"colab-df-quickchart\" onclick=\"quickchart('df-9485793b-8c2e-4ff7-8877-d16468750457')\"\n",
              "            title=\"Suggest charts.\"\n",
              "            style=\"display:none;\">\n",
              "\n",
              "<svg xmlns=\"http://www.w3.org/2000/svg\" height=\"24px\"viewBox=\"0 0 24 24\"\n",
              "     width=\"24px\">\n",
              "    <g>\n",
              "        <path d=\"M19 3H5c-1.1 0-2 .9-2 2v14c0 1.1.9 2 2 2h14c1.1 0 2-.9 2-2V5c0-1.1-.9-2-2-2zM9 17H7v-7h2v7zm4 0h-2V7h2v10zm4 0h-2v-4h2v4z\"/>\n",
              "    </g>\n",
              "</svg>\n",
              "  </button>\n",
              "\n",
              "<style>\n",
              "  .colab-df-quickchart {\n",
              "      --bg-color: #E8F0FE;\n",
              "      --fill-color: #1967D2;\n",
              "      --hover-bg-color: #E2EBFA;\n",
              "      --hover-fill-color: #174EA6;\n",
              "      --disabled-fill-color: #AAA;\n",
              "      --disabled-bg-color: #DDD;\n",
              "  }\n",
              "\n",
              "  [theme=dark] .colab-df-quickchart {\n",
              "      --bg-color: #3B4455;\n",
              "      --fill-color: #D2E3FC;\n",
              "      --hover-bg-color: #434B5C;\n",
              "      --hover-fill-color: #FFFFFF;\n",
              "      --disabled-bg-color: #3B4455;\n",
              "      --disabled-fill-color: #666;\n",
              "  }\n",
              "\n",
              "  .colab-df-quickchart {\n",
              "    background-color: var(--bg-color);\n",
              "    border: none;\n",
              "    border-radius: 50%;\n",
              "    cursor: pointer;\n",
              "    display: none;\n",
              "    fill: var(--fill-color);\n",
              "    height: 32px;\n",
              "    padding: 0;\n",
              "    width: 32px;\n",
              "  }\n",
              "\n",
              "  .colab-df-quickchart:hover {\n",
              "    background-color: var(--hover-bg-color);\n",
              "    box-shadow: 0 1px 2px rgba(60, 64, 67, 0.3), 0 1px 3px 1px rgba(60, 64, 67, 0.15);\n",
              "    fill: var(--button-hover-fill-color);\n",
              "  }\n",
              "\n",
              "  .colab-df-quickchart-complete:disabled,\n",
              "  .colab-df-quickchart-complete:disabled:hover {\n",
              "    background-color: var(--disabled-bg-color);\n",
              "    fill: var(--disabled-fill-color);\n",
              "    box-shadow: none;\n",
              "  }\n",
              "\n",
              "  .colab-df-spinner {\n",
              "    border: 2px solid var(--fill-color);\n",
              "    border-color: transparent;\n",
              "    border-bottom-color: var(--fill-color);\n",
              "    animation:\n",
              "      spin 1s steps(1) infinite;\n",
              "  }\n",
              "\n",
              "  @keyframes spin {\n",
              "    0% {\n",
              "      border-color: transparent;\n",
              "      border-bottom-color: var(--fill-color);\n",
              "      border-left-color: var(--fill-color);\n",
              "    }\n",
              "    20% {\n",
              "      border-color: transparent;\n",
              "      border-left-color: var(--fill-color);\n",
              "      border-top-color: var(--fill-color);\n",
              "    }\n",
              "    30% {\n",
              "      border-color: transparent;\n",
              "      border-left-color: var(--fill-color);\n",
              "      border-top-color: var(--fill-color);\n",
              "      border-right-color: var(--fill-color);\n",
              "    }\n",
              "    40% {\n",
              "      border-color: transparent;\n",
              "      border-right-color: var(--fill-color);\n",
              "      border-top-color: var(--fill-color);\n",
              "    }\n",
              "    60% {\n",
              "      border-color: transparent;\n",
              "      border-right-color: var(--fill-color);\n",
              "    }\n",
              "    80% {\n",
              "      border-color: transparent;\n",
              "      border-right-color: var(--fill-color);\n",
              "      border-bottom-color: var(--fill-color);\n",
              "    }\n",
              "    90% {\n",
              "      border-color: transparent;\n",
              "      border-bottom-color: var(--fill-color);\n",
              "    }\n",
              "  }\n",
              "</style>\n",
              "\n",
              "  <script>\n",
              "    async function quickchart(key) {\n",
              "      const quickchartButtonEl =\n",
              "        document.querySelector('#' + key + ' button');\n",
              "      quickchartButtonEl.disabled = true;  // To prevent multiple clicks.\n",
              "      quickchartButtonEl.classList.add('colab-df-spinner');\n",
              "      try {\n",
              "        const charts = await google.colab.kernel.invokeFunction(\n",
              "            'suggestCharts', [key], {});\n",
              "      } catch (error) {\n",
              "        console.error('Error during call to suggestCharts:', error);\n",
              "      }\n",
              "      quickchartButtonEl.classList.remove('colab-df-spinner');\n",
              "      quickchartButtonEl.classList.add('colab-df-quickchart-complete');\n",
              "    }\n",
              "    (() => {\n",
              "      let quickchartButtonEl =\n",
              "        document.querySelector('#df-9485793b-8c2e-4ff7-8877-d16468750457 button');\n",
              "      quickchartButtonEl.style.display =\n",
              "        google.colab.kernel.accessAllowed ? 'block' : 'none';\n",
              "    })();\n",
              "  </script>\n",
              "</div>\n",
              "    </div>\n",
              "  </div>\n"
            ]
          },
          "metadata": {},
          "execution_count": 15
        }
      ]
    },
    {
      "cell_type": "markdown",
      "metadata": {
        "id": "nG3RIJrhwfm_"
      },
      "source": [
        "## Conclusion and Future Work (Continued)\n",
        "\n",
        "We've now successfully generated visualizations for key metrics and gained insights into our model's performance.\n",
        "\n",
        "The test accuracy of approximately {test_accuracy:.2%} indicates that our forgery detection model is capable of distinguishing between genuine and forged images. The confusion matrix visualization provides a clear breakdown of true and predicted labels, helping us understand areas where the model performs well and where it might struggle.\n",
        "\n",
        "As we conclude this project, we reflect on the journey of building a simple yet effective image forgery detection model. To further improve this model, we can consider the following avenues:\n",
        "- Fine-tune hyperparameters for better generalization.\n",
        "- Explore more advanced CNN architectures or transfer learning techniques.\n",
        "- Collect and integrate additional labeled data to enhance model robustness.\n",
        "- Investigate ensemble methods to leverage the strengths of multiple models.\n",
        "- Implement model interpretability techniques to understand the model's decision-making process.\n",
        "\n",
        "By pursuing these strategies, we can continue refining our model's accuracy and overall performance in detecting image forgeries.\n",
        "\n",
        "Thank you for joining us on this endeavor to create a reliable forgery detection solution. Your hard work and commitment have led to an insightful and impactful project.\n"
      ]
    },
    {
      "cell_type": "code",
      "execution_count": 16,
      "metadata": {
        "colab": {
          "base_uri": "https://localhost:8080/",
          "height": 366
        },
        "id": "P8BXlYxayDBX",
        "outputId": "3584fd24-9908-4a24-b124-1c5a4344779d"
      },
      "outputs": [
        {
          "output_type": "error",
          "ename": "FileNotFoundError",
          "evalue": "ignored",
          "traceback": [
            "\u001b[0;31m---------------------------------------------------------------------------\u001b[0m",
            "\u001b[0;31mFileNotFoundError\u001b[0m                         Traceback (most recent call last)",
            "\u001b[0;32m<ipython-input-16-e4238b8d768d>\u001b[0m in \u001b[0;36m<cell line: 13>\u001b[0;34m()\u001b[0m\n\u001b[1;32m     11\u001b[0m \u001b[0;31m# Load a test image (replace 'test_image_path' with the actual path to your test image)\u001b[0m\u001b[0;34m\u001b[0m\u001b[0;34m\u001b[0m\u001b[0m\n\u001b[1;32m     12\u001b[0m \u001b[0mtest_image_path\u001b[0m \u001b[0;34m=\u001b[0m \u001b[0;34m\"path/to/your/test/image.jpg\"\u001b[0m\u001b[0;34m\u001b[0m\u001b[0;34m\u001b[0m\u001b[0m\n\u001b[0;32m---> 13\u001b[0;31m \u001b[0mtest_image\u001b[0m \u001b[0;34m=\u001b[0m \u001b[0mImage\u001b[0m\u001b[0;34m.\u001b[0m\u001b[0mopen\u001b[0m\u001b[0;34m(\u001b[0m\u001b[0mtest_image_path\u001b[0m\u001b[0;34m)\u001b[0m\u001b[0;34m\u001b[0m\u001b[0;34m\u001b[0m\u001b[0m\n\u001b[0m\u001b[1;32m     14\u001b[0m \u001b[0;34m\u001b[0m\u001b[0m\n\u001b[1;32m     15\u001b[0m \u001b[0;31m# Preprocessing function (replace with your actual preprocessing steps)\u001b[0m\u001b[0;34m\u001b[0m\u001b[0;34m\u001b[0m\u001b[0m\n",
            "\u001b[0;32m/usr/local/lib/python3.10/dist-packages/PIL/Image.py\u001b[0m in \u001b[0;36mopen\u001b[0;34m(fp, mode, formats)\u001b[0m\n\u001b[1;32m   3225\u001b[0m \u001b[0;34m\u001b[0m\u001b[0m\n\u001b[1;32m   3226\u001b[0m     \u001b[0;32mif\u001b[0m \u001b[0mfilename\u001b[0m\u001b[0;34m:\u001b[0m\u001b[0;34m\u001b[0m\u001b[0;34m\u001b[0m\u001b[0m\n\u001b[0;32m-> 3227\u001b[0;31m         \u001b[0mfp\u001b[0m \u001b[0;34m=\u001b[0m \u001b[0mbuiltins\u001b[0m\u001b[0;34m.\u001b[0m\u001b[0mopen\u001b[0m\u001b[0;34m(\u001b[0m\u001b[0mfilename\u001b[0m\u001b[0;34m,\u001b[0m \u001b[0;34m\"rb\"\u001b[0m\u001b[0;34m)\u001b[0m\u001b[0;34m\u001b[0m\u001b[0;34m\u001b[0m\u001b[0m\n\u001b[0m\u001b[1;32m   3228\u001b[0m         \u001b[0mexclusive_fp\u001b[0m \u001b[0;34m=\u001b[0m \u001b[0;32mTrue\u001b[0m\u001b[0;34m\u001b[0m\u001b[0;34m\u001b[0m\u001b[0m\n\u001b[1;32m   3229\u001b[0m \u001b[0;34m\u001b[0m\u001b[0m\n",
            "\u001b[0;31mFileNotFoundError\u001b[0m: [Errno 2] No such file or directory: 'path/to/your/test/image.jpg'"
          ]
        }
      ],
      "source": [
        "import time\n",
        "import torch\n",
        "from PIL import Image\n",
        "\n",
        "# Load your model and define preprocessing steps\n",
        "model =  model  # Load your trained model here\n",
        "device = torch.device(\"cuda\" if torch.cuda.is_available() else \"cpu\")\n",
        "model.to(device)\n",
        "model.eval()\n",
        "\n",
        "# Load a test image (replace 'test_image_path' with the actual path to your test image)\n",
        "test_image_path = \"path/to/your/test/image.jpg\"\n",
        "test_image = Image.open(test_image_path)\n",
        "\n",
        "# Preprocessing function (replace with your actual preprocessing steps)\n",
        "def preprocess_image(image):\n",
        "    # Replace this with your preprocessing code (resizing, normalization, etc.)\n",
        "    return processed_image\n",
        "\n",
        "# Perform inference and measure inference time\n",
        "with torch.no_grad():\n",
        "    start_time = time.time()\n",
        "    inputs = preprocess_image(test_image)  # Preprocess the image\n",
        "    inputs = inputs.unsqueeze(0).to(device)  # Add batch dimension and move to the device\n",
        "    outputs = model(inputs)  # Make predictions\n",
        "    end_time = time.time()\n",
        "\n",
        "# Calculate inference time\n",
        "inference_time = end_time - start_time\n",
        "print(f\"Inference Time: {inference_time:.4f} seconds\")\n"
      ]
    },
    {
      "cell_type": "code",
      "execution_count": null,
      "metadata": {
        "id": "2jNWN8cdy-W3"
      },
      "outputs": [],
      "source": []
    }
  ],
  "metadata": {
    "colab": {
      "provenance": []
    },
    "kernelspec": {
      "display_name": "Python 3",
      "name": "python3"
    },
    "language_info": {
      "name": "python"
    }
  },
  "nbformat": 4,
  "nbformat_minor": 0
}